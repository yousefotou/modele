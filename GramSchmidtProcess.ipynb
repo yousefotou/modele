{
  "nbformat": 4,
  "nbformat_minor": 0,
  "metadata": {
    "coursera": {
      "course_slug": "linear-algebra-machine-learning",
      "graded_item_id": "FNk8v",
      "launcher_item_id": "DdvVk"
    },
    "kernelspec": {
      "display_name": "Python 3",
      "language": "python",
      "name": "python3"
    },
    "language_info": {
      "codemirror_mode": {
        "name": "ipython",
        "version": 3
      },
      "file_extension": ".py",
      "mimetype": "text/x-python",
      "name": "python",
      "nbconvert_exporter": "python",
      "pygments_lexer": "ipython3",
      "version": "3.6.2"
    },
    "colab": {
      "name": "GramSchmidtProcess.ipynb",
      "provenance": []
    }
  },
  "cells": [
    {
      "cell_type": "markdown",
      "metadata": {
        "id": "klW4SKywH-lW"
      },
      "source": [
        "# Gram-Schmidt process\n",
        "\n",
        "## Instructions\n",
        "In this assignment you will write a function to perform the Gram-Schmidt procedure, which takes a list of vectors and forms an orthonormal basis from this set.\n",
        "As a corollary, the procedure allows us to determine the dimension of the space spanned by the basis vectors, which is equal to or less than the space which the vectors sit.\n",
        "\n",
        "You'll start by completing a function for 4 basis vectors, before generalising to when an arbitrary number of vectors are given.\n",
        "\n",
        "Again, a framework for the function has already been written.\n",
        "Look through the code, and you'll be instructed where to make changes.\n",
        "We'll do the first two rows, and you can use this as a guide to do the last two.\n",
        "\n",
        "### Matrices in Python\n",
        "Remember the structure for matrices in *numpy* is,\n",
        "```python\n",
        "A[0, 0]  A[0, 1]  A[0, 2]  A[0, 3]\n",
        "A[1, 0]  A[1, 1]  A[1, 2]  A[1, 3]\n",
        "A[2, 0]  A[2, 1]  A[2, 2]  A[2, 3]\n",
        "A[3, 0]  A[3, 1]  A[3, 2]  A[3, 3]\n",
        "```\n",
        "You can access the value of each element individually using,\n",
        "```python\n",
        "A[n, m]\n",
        "```\n",
        "You can also access a whole row at a time using,\n",
        "```python\n",
        "A[n]\n",
        "```\n",
        "\n",
        "Building on last assignment, in this exercise you will need to select whole columns at a time.\n",
        "This can be done with,\n",
        "```python\n",
        "A[:, m]\n",
        "```\n",
        "which will select the m'th column (starting at zero).\n",
        "\n",
        "In this exercise, you will need to take the dot product between vectors. This can be done using the @ operator.\n",
        "To dot product vectors u and v, use the code,\n",
        "```python\n",
        "u @ v\n",
        "```\n",
        "\n",
        "All the code you should complete will be at the same level of indentation as the instruction comment.\n",
        "\n",
        "### How to submit\n",
        "Edit the code in the cell below to complete the assignment.\n",
        "Once you are finished and happy with it, press the *Submit Assignment* button at the top of this notebook.\n",
        "\n",
        "Please don't change any of the function names, as these will be checked by the grading script.\n",
        "\n",
        "If you have further questions about submissions or programming assignments, here is a [list](https://www.coursera.org/learn/linear-algebra-machine-learning/discussions/weeks/1/threads/jB4klkn5EeibtBIQyzFmQg) of Q&A. You can also raise an issue on the discussion forum. Good luck!"
      ]
    },
    {
      "cell_type": "code",
      "metadata": {
        "id": "SRUro4iRH-lX"
      },
      "source": [
        "# GRADED FUNCTION\n",
        "import numpy as np\n",
        "import numpy.linalg as la\n",
        "\n",
        "verySmallNumber = 1e-14 # That's 1×10⁻¹⁴ = 0.00000000000001\n",
        "\n",
        "# Our first function will perform the Gram-Schmidt procedure for 4 basis vectors.\n",
        "# We'll take this list of vectors as the columns of a matrix, A.\n",
        "# We'll then go through the vectors one at a time and set them to be orthogonal\n",
        "# to all the vectors that came before it. Before normalising.\n",
        "# Follow the instructions inside the function at each comment.\n",
        "# You will be told where to add code to complete the function.\n",
        "def gsBasis4(A) :\n",
        "    B = np.array(A, dtype=np.float_) # Make B as a copy of A, since we're going to alter it's values.\n",
        "    # The zeroth column is easy, since it has no other vectors to make it normal to.\n",
        "    # All that needs to be done is to normalise it. I.e. divide by its modulus, or norm.\n",
        "    B[:, 0] = B[:, 0] / la.norm(B[:, 0])\n",
        "    # For the first column, we need to subtract any overlap with our new zeroth vector.\n",
        "    B[:, 1] = B[:, 1] - B[:, 1] @ B[:, 0] * B[:, 0]\n",
        "    # If there's anything left after that subtraction, then B[:, 1] is linearly independant of B[:, 0]\n",
        "    # If this is the case, we can normalise it. Otherwise we'll set that vector to zero.\n",
        "    if la.norm(B[:, 1]) > verySmallNumber :\n",
        "        B[:, 1] = B[:, 1] / la.norm(B[:, 1])\n",
        "    else :\n",
        "        B[:, 1] = np.zeros_like(B[:, 1])\n",
        "    # Now we need to repeat the process for column 2.\n",
        "    # Insert two lines of code, the first to subtract the overlap with the zeroth vector,\n",
        "    # and the second to subtract the overlap with the first.\n",
        "    \n",
        "    \n",
        "    # Again we'll need to normalise our new vector.\n",
        "    # Copy and adapt the normalisation fragment from above to column 2.\n",
        "    \n",
        "    \n",
        "    \n",
        "    \n",
        "    # Finally, column three:\n",
        "    # Insert code to subtract the overlap with the first three vectors.\n",
        "    \n",
        "    \n",
        "    \n",
        "    # Now normalise if possible\n",
        "    \n",
        "    \n",
        "    \n",
        "    \n",
        "    # Finally, we return the result:\n",
        "    return B\n",
        "\n",
        "# The second part of this exercise will generalise the procedure.\n",
        "# Previously, we could only have four vectors, and there was a lot of repeating in the code.\n",
        "# We'll use a for-loop here to iterate the process for each vector.\n",
        "def gsBasis(A) :\n",
        "    B = np.array(A, dtype=np.float_) # Make B as a copy of A, since we're going to alter it's values.\n",
        "    # Loop over all vectors, starting with zero, label them with i\n",
        "    for i in range(B.shape[1]) :\n",
        "        # Inside that loop, loop over all previous vectors, j, to subtract.\n",
        "        for j in range(i) :\n",
        "            # Complete the code to subtract the overlap with previous vectors.\n",
        "            # you'll need the current vector B[:, i] and a previous vector B[:, j]\n",
        "            B[:, i] = B[:,i] - B[:,i] @ B[:,j] * B[:,j]\n",
        "        # Next insert code to do the normalisation test for B[:, i]\n",
        "        if la.norm(B[:,i]) > verySmallNumber :\n",
        "          B[:,i]=B[:,i]/la.norm(B[:,i])\n",
        "        else:\n",
        "            B[:,i] =  np.zeros_like(B[:,i])            \n",
        "        \n",
        "            \n",
        "    # Finally, we return the result:\n",
        "    return B\n",
        "\n",
        "# This function uses the Gram-schmidt process to calculate the dimension\n",
        "# spanned by a list of vectors.\n",
        "# Since each vector is normalised to one, or is zero,\n",
        "# the sum of all the norms will be the dimension.\n",
        "def dimensions(A) :\n",
        "    return np.sum(la.norm(gsBasis(A), axis=0))\n"
      ],
      "execution_count": 8,
      "outputs": []
    },
    {
      "cell_type": "markdown",
      "metadata": {
        "id": "F9AzEM7TH-lY"
      },
      "source": [
        "## Test your code before submission\n",
        "To test the code you've written above, run the cell (select the cell above, then press the play button [ ▶| ] or press shift-enter).\n",
        "You can then use the code below to test out your function.\n",
        "You don't need to submit this cell; you can edit and run it as much as you like.\n",
        "\n",
        "Try out your code on tricky test cases!"
      ]
    },
    {
      "cell_type": "code",
      "metadata": {
        "id": "zkL3H4fXH-lY",
        "outputId": "1e7fc557-b76b-4001-a26a-0d1554431675",
        "colab": {
          "base_uri": "https://localhost:8080/"
        }
      },
      "source": [
        "V = np.array([[1,0,2,6],\n",
        "              [0,1,8,2],\n",
        "              [2,8,3,1],\n",
        "              [1,-6,2,3]], dtype=np.float_)\n",
        "gsBasis4(V)"
      ],
      "execution_count": 10,
      "outputs": [
        {
          "output_type": "execute_result",
          "data": {
            "text/plain": [
              "array([[ 0.40824829, -0.1814885 ,  2.        ,  6.        ],\n",
              "       [ 0.        ,  0.1088931 ,  8.        ,  2.        ],\n",
              "       [ 0.81649658,  0.50816781,  3.        ,  1.        ],\n",
              "       [ 0.40824829, -0.83484711,  2.        ,  3.        ]])"
            ]
          },
          "metadata": {
            "tags": []
          },
          "execution_count": 10
        }
      ]
    },
    {
      "cell_type": "code",
      "metadata": {
        "id": "sMxJc7joH-lY",
        "outputId": "e959843d-b7eb-464b-9beb-cb5a014c1838",
        "colab": {
          "base_uri": "https://localhost:8080/"
        }
      },
      "source": [
        "# Once you've done Gram-Schmidt once,\n",
        "# doing it again should give you the same result. Test this:\n",
        "U = gsBasis4(V)\n",
        "gsBasis4(U)"
      ],
      "execution_count": 11,
      "outputs": [
        {
          "output_type": "execute_result",
          "data": {
            "text/plain": [
              "array([[ 0.40824829, -0.1814885 ,  2.        ,  6.        ],\n",
              "       [ 0.        ,  0.1088931 ,  8.        ,  2.        ],\n",
              "       [ 0.81649658,  0.50816781,  3.        ,  1.        ],\n",
              "       [ 0.40824829, -0.83484711,  2.        ,  3.        ]])"
            ]
          },
          "metadata": {
            "tags": []
          },
          "execution_count": 11
        }
      ]
    },
    {
      "cell_type": "code",
      "metadata": {
        "id": "KKX-zZo9H-lY",
        "outputId": "76414f3c-aad4-40a0-f262-232d0b1326a8",
        "colab": {
          "base_uri": "https://localhost:8080/"
        }
      },
      "source": [
        "# Try the general function too.\n",
        "gsBasis(V)"
      ],
      "execution_count": 12,
      "outputs": [
        {
          "output_type": "execute_result",
          "data": {
            "text/plain": [
              "array([[ 0.40824829, -0.1814885 ,  0.04982278,  0.89325973],\n",
              "       [ 0.        ,  0.1088931 ,  0.99349591, -0.03328918],\n",
              "       [ 0.81649658,  0.50816781, -0.06462163, -0.26631346],\n",
              "       [ 0.40824829, -0.83484711,  0.07942048, -0.36063281]])"
            ]
          },
          "metadata": {
            "tags": []
          },
          "execution_count": 12
        }
      ]
    },
    {
      "cell_type": "code",
      "metadata": {
        "id": "QAchiJHDH-lY",
        "outputId": "945ec028-2943-4bed-c3bf-d1b138853ebf",
        "colab": {
          "base_uri": "https://localhost:8080/"
        }
      },
      "source": [
        "# See what happens for non-square matrices\n",
        "A = np.array([[3,2,3],\n",
        "              [2,5,-1],\n",
        "              [2,4,8],\n",
        "              [12,2,1]], dtype=np.float_)\n",
        "gsBasis(A)"
      ],
      "execution_count": 13,
      "outputs": [
        {
          "output_type": "execute_result",
          "data": {
            "text/plain": [
              "array([[ 0.23643312,  0.18771349,  0.22132104],\n",
              "       [ 0.15762208,  0.74769023, -0.64395812],\n",
              "       [ 0.15762208,  0.57790444,  0.72904263],\n",
              "       [ 0.94573249, -0.26786082, -0.06951101]])"
            ]
          },
          "metadata": {
            "tags": []
          },
          "execution_count": 13
        }
      ]
    },
    {
      "cell_type": "code",
      "metadata": {
        "id": "CJ1EYz-eH-lY",
        "outputId": "65f98d93-1f82-4e63-d4a2-749f1b497ba5",
        "colab": {
          "base_uri": "https://localhost:8080/"
        }
      },
      "source": [
        "dimensions(A)"
      ],
      "execution_count": 14,
      "outputs": [
        {
          "output_type": "execute_result",
          "data": {
            "text/plain": [
              "3.0"
            ]
          },
          "metadata": {
            "tags": []
          },
          "execution_count": 14
        }
      ]
    },
    {
      "cell_type": "code",
      "metadata": {
        "id": "culMDSd7H-lY",
        "outputId": "ce6a9a0c-e935-48e6-b25f-7e78498c46cc",
        "colab": {
          "base_uri": "https://localhost:8080/"
        }
      },
      "source": [
        "B = np.array([[6,2,1,7,5],\n",
        "              [2,8,5,-4,1],\n",
        "              [1,-6,3,2,8]], dtype=np.float_)\n",
        "gsBasis(B)"
      ],
      "execution_count": 15,
      "outputs": [
        {
          "output_type": "execute_result",
          "data": {
            "text/plain": [
              "array([[ 0.93704257, -0.12700832, -0.32530002,  0.        ,  0.        ],\n",
              "       [ 0.31234752,  0.72140727,  0.61807005,  0.        ,  0.        ],\n",
              "       [ 0.15617376, -0.6807646 ,  0.71566005,  0.        ,  0.        ]])"
            ]
          },
          "metadata": {
            "tags": []
          },
          "execution_count": 15
        }
      ]
    },
    {
      "cell_type": "code",
      "metadata": {
        "id": "Fi1w292gH-lZ",
        "outputId": "bd1957d0-a228-443a-ef04-02393f73aa01",
        "colab": {
          "base_uri": "https://localhost:8080/"
        }
      },
      "source": [
        "dimensions(B)"
      ],
      "execution_count": 16,
      "outputs": [
        {
          "output_type": "execute_result",
          "data": {
            "text/plain": [
              "3.0"
            ]
          },
          "metadata": {
            "tags": []
          },
          "execution_count": 16
        }
      ]
    },
    {
      "cell_type": "code",
      "metadata": {
        "id": "AEeyrmCfH-lZ",
        "outputId": "6560280d-c5c8-4d01-ccb5-da1d08934547",
        "colab": {
          "base_uri": "https://localhost:8080/"
        }
      },
      "source": [
        "# Now let's see what happens when we have one vector that is a linear combination of the others.\n",
        "C = np.array([[1,0,2],\n",
        "              [0,1,-3],\n",
        "              [1,0,2]], dtype=np.float_)\n",
        "gsBasis(C)"
      ],
      "execution_count": 17,
      "outputs": [
        {
          "output_type": "execute_result",
          "data": {
            "text/plain": [
              "array([[0.70710678, 0.        , 0.        ],\n",
              "       [0.        , 1.        , 0.        ],\n",
              "       [0.70710678, 0.        , 0.        ]])"
            ]
          },
          "metadata": {
            "tags": []
          },
          "execution_count": 17
        }
      ]
    },
    {
      "cell_type": "code",
      "metadata": {
        "id": "eltK13b4H-lZ",
        "outputId": "30bc4f2c-9e1c-4c08-b563-ff6c5364c86a",
        "colab": {
          "base_uri": "https://localhost:8080/"
        }
      },
      "source": [
        "dimensions(C)"
      ],
      "execution_count": 18,
      "outputs": [
        {
          "output_type": "execute_result",
          "data": {
            "text/plain": [
              "2.0"
            ]
          },
          "metadata": {
            "tags": []
          },
          "execution_count": 18
        }
      ]
    }
  ]
}